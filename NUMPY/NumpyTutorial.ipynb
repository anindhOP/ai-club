{
  "nbformat": 4,
  "nbformat_minor": 0,
  "metadata": {
    "colab": {
      "name": "NumpyTutorial.ipynb",
      "provenance": [],
      "collapsed_sections": [],
      "include_colab_link": true
    },
    "kernelspec": {
      "name": "python3",
      "display_name": "Python 3"
    },
    "language_info": {
      "name": "python"
    }
  },
  "cells": [
    {
      "cell_type": "markdown",
      "metadata": {
        "id": "view-in-github",
        "colab_type": "text"
      },
      "source": [
        "<a href=\"https://colab.research.google.com/github/anindhOP/ai-club/blob/main/NUMPY/NumpyTutorial.ipynb\" target=\"_parent\"><img src=\"https://colab.research.google.com/assets/colab-badge.svg\" alt=\"Open In Colab\"/></a>"
      ]
    },
    {
      "cell_type": "markdown",
      "metadata": {
        "id": "7n55SOeZ5lEf"
      },
      "source": [
        "# ***NUMPY IN DIFFERENT WAYS***"
      ]
    },
    {
      "cell_type": "code",
      "metadata": {
        "id": "fqx_8z_smenh"
      },
      "source": [
        "import numpy as np"
      ],
      "execution_count": 5,
      "outputs": []
    },
    {
      "cell_type": "markdown",
      "metadata": {
        "id": "K2hZGwKz3nSg"
      },
      "source": [
        "**lists**"
      ]
    },
    {
      "cell_type": "code",
      "metadata": {
        "id": "PruwtZqwoVoG",
        "colab": {
          "base_uri": "https://localhost:8080/"
        },
        "outputId": "33c91b8c-6385-4869-a41a-c1a9b50cd8a2"
      },
      "source": [
        "PythonList = [1,4,2,8]\n",
        "print(PythonList)\n"
      ],
      "execution_count": 1,
      "outputs": [
        {
          "output_type": "stream",
          "text": [
            "[1, 4, 2, 8]\n"
          ],
          "name": "stdout"
        }
      ]
    },
    {
      "cell_type": "markdown",
      "metadata": {
        "id": "SQ03hoSE3sTx"
      },
      "source": [
        "**NUMPY**"
      ]
    },
    {
      "cell_type": "code",
      "metadata": {
        "id": "Rb0KF685oX2e",
        "colab": {
          "base_uri": "https://localhost:8080/"
        },
        "outputId": "70ebeac4-3ef6-41a7-9255-d5d7a538d35c"
      },
      "source": [
        "numpy_array = np.array(PythonList)\n",
        "numpy_array"
      ],
      "execution_count": 6,
      "outputs": [
        {
          "output_type": "execute_result",
          "data": {
            "text/plain": [
              "array([1, 4, 2, 8])"
            ]
          },
          "metadata": {
            "tags": []
          },
          "execution_count": 6
        }
      ]
    },
    {
      "cell_type": "code",
      "metadata": {
        "colab": {
          "base_uri": "https://localhost:8080/"
        },
        "id": "Qrxhi8qht0ET",
        "outputId": "34f3b412-8aa1-4416-812e-68ac0ab4c617"
      },
      "source": [
        "a = numpy_array+10\n",
        "print(a)"
      ],
      "execution_count": 7,
      "outputs": [
        {
          "output_type": "stream",
          "text": [
            "[11 14 12 18]\n"
          ],
          "name": "stdout"
        }
      ]
    },
    {
      "cell_type": "code",
      "metadata": {
        "colab": {
          "base_uri": "https://localhost:8080/"
        },
        "id": "30dfhAmJuGb8",
        "outputId": "de415e6e-3c2f-4992-f8a4-537e5fc4947f"
      },
      "source": [
        "a = np.array([1,2,7])\n",
        "print(a)"
      ],
      "execution_count": 8,
      "outputs": [
        {
          "output_type": "stream",
          "text": [
            "[1 2 7]\n"
          ],
          "name": "stdout"
        }
      ]
    },
    {
      "cell_type": "code",
      "metadata": {
        "colab": {
          "base_uri": "https://localhost:8080/"
        },
        "id": "dtcm0iojuY4B",
        "outputId": "22e1f322-decd-4ba6-9bca-bd3783f9ba83"
      },
      "source": [
        "b = a +10\n",
        "print(b)"
      ],
      "execution_count": 9,
      "outputs": [
        {
          "output_type": "stream",
          "text": [
            "[11 12 17]\n"
          ],
          "name": "stdout"
        }
      ]
    },
    {
      "cell_type": "code",
      "metadata": {
        "colab": {
          "base_uri": "https://localhost:8080/"
        },
        "id": "TyiG7OWYufW4",
        "outputId": "01d68d46-0a10-47b1-ec35-1006eff2430e"
      },
      "source": [
        "print(a.shape)\n",
        "print(a.dtype)"
      ],
      "execution_count": 10,
      "outputs": [
        {
          "output_type": "stream",
          "text": [
            "(3,)\n",
            "int64\n"
          ],
          "name": "stdout"
        }
      ]
    },
    {
      "cell_type": "code",
      "metadata": {
        "colab": {
          "base_uri": "https://localhost:8080/"
        },
        "id": "4A7G11m1utuN",
        "outputId": "891aeb76-c32b-4051-fce8-54f920722027"
      },
      "source": [
        "c = np.array([(1,4,8,0),\n",
        "              (4,2,6,8)])\n",
        "print(c)"
      ],
      "execution_count": 11,
      "outputs": [
        {
          "output_type": "stream",
          "text": [
            "[[1 4 8 0]\n",
            " [4 2 6 8]]\n"
          ],
          "name": "stdout"
        }
      ]
    },
    {
      "cell_type": "code",
      "metadata": {
        "colab": {
          "base_uri": "https://localhost:8080/"
        },
        "id": "TpKW1f6yvAY0",
        "outputId": "4b114d88-4ed3-4208-cd56-29d9347ec41a"
      },
      "source": [
        "d = np.array([\n",
        "    [[1, 2,3],\n",
        "        [4, 5, 6]],\n",
        "      [[7, 8,9],\n",
        "        [10, 11, 12]]\n",
        "])\n",
        "print(d.shape)"
      ],
      "execution_count": 12,
      "outputs": [
        {
          "output_type": "stream",
          "text": [
            "(2, 2, 3)\n"
          ],
          "name": "stdout"
        }
      ]
    },
    {
      "cell_type": "markdown",
      "metadata": {
        "id": "j2-baU4e33ki"
      },
      "source": [
        "**TO PRINT 3 ROWS 3 COULMNS OF ONES**"
      ]
    },
    {
      "cell_type": "code",
      "metadata": {
        "colab": {
          "base_uri": "https://localhost:8080/"
        },
        "id": "kOdYmXXLvcJ0",
        "outputId": "1454e5e8-636c-405e-d38f-85e2a02952ea"
      },
      "source": [
        "x=np.ones((3,3), dtype=np.int16)\n",
        "print(x)"
      ],
      "execution_count": 18,
      "outputs": [
        {
          "output_type": "stream",
          "text": [
            "[[1 1 1]\n",
            " [1 1 1]\n",
            " [1 1 1]]\n"
          ],
          "name": "stdout"
        }
      ]
    },
    {
      "cell_type": "markdown",
      "metadata": {
        "id": "VRgCG2jd3-bM"
      },
      "source": [
        "**TO PRINT 3 TIMES OF 2 ROWS 4 COLUMNS OF ZEROES**"
      ]
    },
    {
      "cell_type": "code",
      "metadata": {
        "colab": {
          "base_uri": "https://localhost:8080/"
        },
        "id": "SswJz5IAx37O",
        "outputId": "0419c3bb-f964-4310-d94d-abab3647e8fd"
      },
      "source": [
        "y=np.zeros((3,2,4), dtype=np.int16)\n",
        "print(y)"
      ],
      "execution_count": 20,
      "outputs": [
        {
          "output_type": "stream",
          "text": [
            "[[[0 0 0 0]\n",
            "  [0 0 0 0]]\n",
            "\n",
            " [[0 0 0 0]\n",
            "  [0 0 0 0]]\n",
            "\n",
            " [[0 0 0 0]\n",
            "  [0 0 0 0]]]\n"
          ],
          "name": "stdout"
        }
      ]
    },
    {
      "cell_type": "markdown",
      "metadata": {
        "id": "lyeguiB54H3m"
      },
      "source": [
        "**RESHAPE TO 1 ELEMENT LISTS**"
      ]
    },
    {
      "cell_type": "code",
      "metadata": {
        "colab": {
          "base_uri": "https://localhost:8080/"
        },
        "id": "-N5Ye8b3x_f6",
        "outputId": "27584dd1-fee9-4228-bfcb-97a9adf1993d"
      },
      "source": [
        "e  = np.array([(1,2,3), (4,6,8)])\n",
        "print(e)\n",
        "e.reshape(6,1)"
      ],
      "execution_count": 21,
      "outputs": [
        {
          "output_type": "stream",
          "text": [
            "[[1 2 3]\n",
            " [4 6 8]]\n"
          ],
          "name": "stdout"
        },
        {
          "output_type": "execute_result",
          "data": {
            "text/plain": [
              "array([[1],\n",
              "       [2],\n",
              "       [3],\n",
              "       [4],\n",
              "       [6],\n",
              "       [8]])"
            ]
          },
          "metadata": {
            "tags": []
          },
          "execution_count": 21
        }
      ]
    },
    {
      "cell_type": "code",
      "metadata": {
        "colab": {
          "base_uri": "https://localhost:8080/"
        },
        "id": "Rs37jtZp1kFc",
        "outputId": "58fe4c64-c91f-43d2-ed1e-05ced7239186"
      },
      "source": [
        "print(e)"
      ],
      "execution_count": 22,
      "outputs": [
        {
          "output_type": "stream",
          "text": [
            "[[1 2 3]\n",
            " [4 6 8]]\n"
          ],
          "name": "stdout"
        }
      ]
    },
    {
      "cell_type": "code",
      "metadata": {
        "colab": {
          "base_uri": "https://localhost:8080/"
        },
        "id": "BafQoH6E1p_-",
        "outputId": "aa9e8137-68c9-44c8-e96c-c645cda0ae84"
      },
      "source": [
        "print('First row:', e[0])\n",
        "print('Second row:', e[1])"
      ],
      "execution_count": 23,
      "outputs": [
        {
          "output_type": "stream",
          "text": [
            "First row: [1 2 3]\n",
            "Second row: [4 6 8]\n"
          ],
          "name": "stdout"
        }
      ]
    },
    {
      "cell_type": "code",
      "metadata": {
        "colab": {
          "base_uri": "https://localhost:8080/"
        },
        "id": "_1h9G0Wo1t5q",
        "outputId": "008a7a17-1407-46b0-ca1a-5f9ddd254923"
      },
      "source": [
        "print('Second column:', e[:,1])"
      ],
      "execution_count": 24,
      "outputs": [
        {
          "output_type": "stream",
          "text": [
            "Second column: [2 6]\n"
          ],
          "name": "stdout"
        }
      ]
    },
    {
      "cell_type": "code",
      "metadata": {
        "colab": {
          "base_uri": "https://localhost:8080/"
        },
        "id": "yey885WD1xvk",
        "outputId": "b550eeeb-5b7d-4cdc-dabc-ffafdd100a6c"
      },
      "source": [
        "print(e[1, :2])"
      ],
      "execution_count": 25,
      "outputs": [
        {
          "output_type": "stream",
          "text": [
            "[4 6]\n"
          ],
          "name": "stdout"
        }
      ]
    },
    {
      "cell_type": "code",
      "metadata": {
        "colab": {
          "base_uri": "https://localhost:8080/"
        },
        "id": "p36FW63ez23w",
        "outputId": "d20afa23-9e70-4d0b-bb08-78223f815bc1"
      },
      "source": [
        "e.flatten()"
      ],
      "execution_count": 26,
      "outputs": [
        {
          "output_type": "execute_result",
          "data": {
            "text/plain": [
              "array([1, 2, 3, 4, 6, 8])"
            ]
          },
          "metadata": {
            "tags": []
          },
          "execution_count": 26
        }
      ]
    },
    {
      "cell_type": "markdown",
      "metadata": {
        "id": "8iioWnKo4PyG"
      },
      "source": [
        "**HORITONTAL AND VERTICAL STACK**"
      ]
    },
    {
      "cell_type": "code",
      "metadata": {
        "colab": {
          "base_uri": "https://localhost:8080/"
        },
        "id": "XTHppaAzz4Kd",
        "outputId": "b4be6a13-7677-4e0b-83dc-637ad4ca30c0"
      },
      "source": [
        "f = np.array([1,2,3])\n",
        "g = np.array([4,6,8])\n",
        "\n",
        "print('Horizontal Append:', np.hstack((f, g)))\n",
        "print(\"Vertical append:\")\n",
        "print(np.vstack((f,g)))"
      ],
      "execution_count": 27,
      "outputs": [
        {
          "output_type": "stream",
          "text": [
            "Horizontal Append: [1 2 3 4 6 8]\n",
            "Vertical append:\n",
            "[[1 2 3]\n",
            " [4 6 8]]\n"
          ],
          "name": "stdout"
        }
      ]
    },
    {
      "cell_type": "markdown",
      "metadata": {
        "id": "obcikB_H4XKB"
      },
      "source": [
        "**TO FIND A LIST OF RANDOM ELEMENTS**"
      ]
    },
    {
      "cell_type": "code",
      "metadata": {
        "colab": {
          "base_uri": "https://localhost:8080/"
        },
        "id": "UBxVS1Uz0WvZ",
        "outputId": "b4288c22-95c5-43e7-b2ed-134046339f63"
      },
      "source": [
        "normal_array = np.random.normal(5, 0.8, 10)\n",
        "print(normal_array)"
      ],
      "execution_count": 28,
      "outputs": [
        {
          "output_type": "stream",
          "text": [
            "[3.60712847 4.597076   4.96709517 4.57433037 5.44031698 4.78491488\n",
            " 5.80623675 5.25113013 4.06903684 5.26860121]\n"
          ],
          "name": "stdout"
        }
      ]
    },
    {
      "cell_type": "markdown",
      "metadata": {
        "id": "cjAyVz0t4dBE"
      },
      "source": [
        "**FIND MIN , MAX, MEAN, MEDIAN,STD FROM A LISTS**"
      ]
    },
    {
      "cell_type": "code",
      "metadata": {
        "colab": {
          "base_uri": "https://localhost:8080/"
        },
        "id": "j_Vl4q7e1Yeq",
        "outputId": "8382c793-1d86-4ef6-df1d-73163cddcad4"
      },
      "source": [
        "print(np.min(normal_array))\n",
        "print(np.max(normal_array))\n",
        "print(np.mean(normal_array))\n",
        "print(np.median(normal_array))\n",
        "print(np.std(normal_array))"
      ],
      "execution_count": null,
      "outputs": [
        {
          "output_type": "stream",
          "text": [
            "4.352212613229316\n",
            "5.49238727930963\n",
            "4.8907612207322115\n",
            "4.948102144090097\n",
            "0.34917526053989645\n"
          ],
          "name": "stdout"
        }
      ]
    },
    {
      "cell_type": "markdown",
      "metadata": {
        "id": "K5miTXDc4mwG"
      },
      "source": [
        "**TO PRINT ELEMENTS IN RANGE**"
      ]
    },
    {
      "cell_type": "code",
      "metadata": {
        "colab": {
          "base_uri": "https://localhost:8080/"
        },
        "id": "Lk1F3Glv02FY",
        "outputId": "f6938c95-a67b-4664-e0c6-96047027f469"
      },
      "source": [
        "np.arange(1, 9)"
      ],
      "execution_count": 29,
      "outputs": [
        {
          "output_type": "execute_result",
          "data": {
            "text/plain": [
              "array([1, 2, 3, 4, 5, 6, 7, 8])"
            ]
          },
          "metadata": {
            "tags": []
          },
          "execution_count": 29
        }
      ]
    },
    {
      "cell_type": "code",
      "metadata": {
        "colab": {
          "base_uri": "https://localhost:8080/"
        },
        "id": "UYwhyjzK04n-",
        "outputId": "4e3777e2-abe0-4ea7-89d6-d5a5d810dbd9"
      },
      "source": [
        "np.arange(1, 9,4)"
      ],
      "execution_count": 30,
      "outputs": [
        {
          "output_type": "execute_result",
          "data": {
            "text/plain": [
              "array([1, 5])"
            ]
          },
          "metadata": {
            "tags": []
          },
          "execution_count": 30
        }
      ]
    },
    {
      "cell_type": "code",
      "metadata": {
        "colab": {
          "base_uri": "https://localhost:8080/"
        },
        "id": "m5Ji8HOW07or",
        "outputId": "b00dc79e-c38a-48e3-e5f5-4a2de3859213"
      },
      "source": [
        "np.linspace(1.0, 10.0, num=20)"
      ],
      "execution_count": null,
      "outputs": [
        {
          "output_type": "execute_result",
          "data": {
            "text/plain": [
              "array([ 1.        ,  1.47368421,  1.94736842,  2.42105263,  2.89473684,\n",
              "        3.36842105,  3.84210526,  4.31578947,  4.78947368,  5.26315789,\n",
              "        5.73684211,  6.21052632,  6.68421053,  7.15789474,  7.63157895,\n",
              "        8.10526316,  8.57894737,  9.05263158,  9.52631579, 10.        ])"
            ]
          },
          "metadata": {
            "tags": []
          },
          "execution_count": 39
        }
      ]
    },
    {
      "cell_type": "code",
      "metadata": {
        "colab": {
          "base_uri": "https://localhost:8080/"
        },
        "id": "P05A5-do2IaH",
        "outputId": "78e2ea24-cfba-43dd-a05e-b4dc7b90b571"
      },
      "source": [
        "np.linspace(1.0, 5.0, num=5, endpoint=False)"
      ],
      "execution_count": 31,
      "outputs": [
        {
          "output_type": "execute_result",
          "data": {
            "text/plain": [
              "array([1. , 1.8, 2.6, 3.4, 4.2])"
            ]
          },
          "metadata": {
            "tags": []
          },
          "execution_count": 31
        }
      ]
    },
    {
      "cell_type": "code",
      "metadata": {
        "colab": {
          "base_uri": "https://localhost:8080/"
        },
        "id": "TjEFnC111-y9",
        "outputId": "b84eb96b-cf67-488f-fc27-aa8ed9427e29"
      },
      "source": [
        "np.logspace(3.0, 4.0, num=4)"
      ],
      "execution_count": 32,
      "outputs": [
        {
          "output_type": "execute_result",
          "data": {
            "text/plain": [
              "array([ 1000.        ,  2154.43469003,  4641.58883361, 10000.        ])"
            ]
          },
          "metadata": {
            "tags": []
          },
          "execution_count": 32
        }
      ]
    },
    {
      "cell_type": "code",
      "metadata": {
        "colab": {
          "base_uri": "https://localhost:8080/"
        },
        "id": "1laU6VsR2D_j",
        "outputId": "153bc569-71aa-4419-a49f-3bcdbcdd9dbf"
      },
      "source": [
        "x = np.array([1,2,3], dtype=np.complex128)\n",
        "x.itemsize"
      ],
      "execution_count": 33,
      "outputs": [
        {
          "output_type": "execute_result",
          "data": {
            "text/plain": [
              "16"
            ]
          },
          "metadata": {
            "tags": []
          },
          "execution_count": 33
        }
      ]
    },
    {
      "cell_type": "markdown",
      "metadata": {
        "id": "5VSNSDdX4vut"
      },
      "source": [
        "**TO FIND DOT PRODUCT OF MATRIX**"
      ]
    },
    {
      "cell_type": "code",
      "metadata": {
        "colab": {
          "base_uri": "https://localhost:8080/"
        },
        "id": "Pf3Ee-Pd2OHT",
        "outputId": "fb3506fb-8390-43f1-bca1-8bf4b983196b"
      },
      "source": [
        "f = np.array([1,2,3])\n",
        "g = np.array([4,5,6])\n",
        "### 1*4+2*5+3*1\n",
        "np.dot(f, g)"
      ],
      "execution_count": 34,
      "outputs": [
        {
          "output_type": "execute_result",
          "data": {
            "text/plain": [
              "32"
            ]
          },
          "metadata": {
            "tags": []
          },
          "execution_count": 34
        }
      ]
    },
    {
      "cell_type": "markdown",
      "metadata": {
        "id": "UZ9EhRH441TF"
      },
      "source": [
        "**TO FIND THE INVERSE OF MATRIX**"
      ]
    },
    {
      "cell_type": "code",
      "metadata": {
        "colab": {
          "base_uri": "https://localhost:8080/"
        },
        "id": "eld_pbLr2Z2Z",
        "outputId": "4d4c7aaa-21a4-450e-e985-f0c74a5d5b53"
      },
      "source": [
        "A = np.array([[6, 1, 1],\n",
        "              [4, 2, 6],\n",
        "              [2, 8, 4]])\n",
        "  \n",
        "# Calculating the inverse of the matrix\n",
        "print(np.linalg.inv(A))"
      ],
      "execution_count": 35,
      "outputs": [
        {
          "output_type": "stream",
          "text": [
            "[[ 0.18518519 -0.01851852 -0.01851852]\n",
            " [ 0.01851852 -0.10185185  0.14814815]\n",
            " [-0.12962963  0.21296296 -0.03703704]]\n"
          ],
          "name": "stdout"
        }
      ]
    },
    {
      "cell_type": "markdown",
      "metadata": {
        "id": "Dsui4zwQ457u"
      },
      "source": [
        "**TO FIND THE MATRIX MULTIPLICATION**"
      ]
    },
    {
      "cell_type": "code",
      "metadata": {
        "colab": {
          "base_uri": "https://localhost:8080/"
        },
        "id": "jjajtu18207y",
        "outputId": "faea8a35-0141-4f3b-ab0c-54b864acaa67"
      },
      "source": [
        "h = [[1,2],[3,4]] \n",
        "i = [[5,6],[7,8]] \n",
        "### 1*5+2*7 = 19\n",
        "np.matmul(h, i)"
      ],
      "execution_count": 36,
      "outputs": [
        {
          "output_type": "execute_result",
          "data": {
            "text/plain": [
              "array([[19, 22],\n",
              "       [43, 50]])"
            ]
          },
          "metadata": {
            "tags": []
          },
          "execution_count": 36
        }
      ]
    },
    {
      "cell_type": "markdown",
      "metadata": {
        "id": "8a9rJ9t55A-B"
      },
      "source": [
        "**TO FIND THE DETERMINANT OF MATRIX**"
      ]
    },
    {
      "cell_type": "code",
      "metadata": {
        "colab": {
          "base_uri": "https://localhost:8080/"
        },
        "id": "LiHKRI-83Fj7",
        "outputId": "4ecc87bf-8b6c-4924-b20d-767c39cd1974"
      },
      "source": [
        "n_array = np.array([[50, 31], [30, 44]])\n",
        "  \n",
        "# Displaying the Matrix\n",
        "print(\"Numpy Matrix is:\")\n",
        "print(n_array)\n",
        "  \n",
        "# calculating the determinant of matrix\n",
        "det = np.linalg.det(n_array)\n",
        "  \n",
        "print(\"\\nDeterminant of given 2X2 matrix:\")\n",
        "print(int(det))"
      ],
      "execution_count": 37,
      "outputs": [
        {
          "output_type": "stream",
          "text": [
            "Numpy Matrix is:\n",
            "[[50 31]\n",
            " [30 44]]\n",
            "\n",
            "Determinant of given 2X2 matrix:\n",
            "1270\n"
          ],
          "name": "stdout"
        }
      ]
    },
    {
      "cell_type": "markdown",
      "metadata": {
        "id": "Gjk8wFcY5IqW"
      },
      "source": [
        "**TO FIND THE RANK OF MATRIX**"
      ]
    },
    {
      "cell_type": "code",
      "metadata": {
        "colab": {
          "base_uri": "https://localhost:8080/"
        },
        "id": "OxgyBprm3IOs",
        "outputId": "63dffb7e-b0cf-4b09-93ca-c40997a0b242"
      },
      "source": [
        "mx = np.array([[1,1,1],[1,2,2],[1,3,3]])\n",
        "\n",
        "# Let's get rank of matrix \n",
        "np.linalg.matrix_rank(mx)"
      ],
      "execution_count": 38,
      "outputs": [
        {
          "output_type": "execute_result",
          "data": {
            "text/plain": [
              "2"
            ]
          },
          "metadata": {
            "tags": []
          },
          "execution_count": 38
        }
      ]
    },
    {
      "cell_type": "markdown",
      "metadata": {
        "id": "4pu7JLtC5OAY"
      },
      "source": [
        "**TO FIND THE TRANSPOSE OF THE MATRIX**"
      ]
    },
    {
      "cell_type": "code",
      "metadata": {
        "colab": {
          "base_uri": "https://localhost:8080/"
        },
        "id": "kpXqgRjR3SFs",
        "outputId": "0de3bbe0-74d7-44ec-fede-ab7ee2467971"
      },
      "source": [
        "gfg = np.matrix('[4, 2; 12, 4]')\n",
        "              \n",
        "# applying matrix.transpose() method\n",
        "trans = gfg.transpose()\n",
        "    \n",
        "print(trans)"
      ],
      "execution_count": 40,
      "outputs": [
        {
          "output_type": "stream",
          "text": [
            "[[ 4 12]\n",
            " [ 2  4]]\n"
          ],
          "name": "stdout"
        }
      ]
    },
    {
      "cell_type": "markdown",
      "metadata": {
        "id": "Trt5CjWh5S45"
      },
      "source": [
        "**TO FIND THE TRACE OF MATRIX**"
      ]
    },
    {
      "cell_type": "code",
      "metadata": {
        "colab": {
          "base_uri": "https://localhost:8080/"
        },
        "id": "NNAUXF623Sx4",
        "outputId": "8c6500d2-8b1b-42d2-b837-1dfc13247c37"
      },
      "source": [
        "gfg = np.matrix('[4, 2; 12, 4]')\n",
        "              \n",
        "# applying matrix.trace() method\n",
        "tracem = gfg.trace()\n",
        "    \n",
        "print(tracem)"
      ],
      "execution_count": 41,
      "outputs": [
        {
          "output_type": "stream",
          "text": [
            "[[8]]\n"
          ],
          "name": "stdout"
        }
      ]
    },
    {
      "cell_type": "markdown",
      "metadata": {
        "id": "XwZkS-au5Y9X"
      },
      "source": [
        "**TO FIND THE EIGEN VALUES AND EIGEN VECTORS OF MATRIX**"
      ]
    },
    {
      "cell_type": "code",
      "metadata": {
        "colab": {
          "base_uri": "https://localhost:8080/"
        },
        "id": "1NhH-e7p3WjA",
        "outputId": "27ee514d-9444-42b2-eb18-7b4f1acdba7e"
      },
      "source": [
        "example_matrix = np.array([\n",
        "  [1,2,3,4],\n",
        "  [5,6,7,8],\n",
        "  [9,10,11,12],\n",
        "  [13,14,15,16]\n",
        "])\n",
        "eigenvalues, eigenvectors = np.linalg.eig(example_matrix)\n",
        "print(eigenvalues, eigenvectors)"
      ],
      "execution_count": 42,
      "outputs": [
        {
          "output_type": "stream",
          "text": [
            "[ 3.62093727e+01 -2.20937271e+00 -5.14138333e-16 -2.08943529e-15] [[-0.15115432 -0.72704996  0.01790738 -0.26832672]\n",
            " [-0.34923733 -0.28320876  0.38415354  0.71367217]\n",
            " [-0.54732033  0.16063243 -0.82202921 -0.62236419]\n",
            " [-0.74540333  0.60447363  0.41996829  0.17701873]]\n"
          ],
          "name": "stdout"
        }
      ]
    }
  ]
}